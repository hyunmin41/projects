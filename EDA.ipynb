{
 "cells": [
  {
   "cell_type": "code",
   "execution_count": null,
   "metadata": {},
   "outputs": [],
   "source": [
    "import math\n",
    "import scipy as sp\n",
    "from scipy import stats\n",
    "import numpy as np\n",
    "import pandas as pd\n",
    "import matplotlib.pyplot as plt\n",
    "import statsmodels.api as sm\n",
    "import seaborn as sns\n",
    "sns.set()\n",
    "\n",
    "from sklearn.preprocessing import LabelEncoder, MinMaxScaler\n",
    "\n",
    "import warnings"
   ]
  },
  {
   "cell_type": "code",
   "execution_count": null,
   "metadata": {},
   "outputs": [],
   "source": [
    "df = pd.read_csv(\"~data1.csv\", header=0,engine='python')  "
   ]
  },
  {
   "cell_type": "code",
   "execution_count": null,
   "metadata": {
    "scrolled": true
   },
   "outputs": [],
   "source": [
    "df.info()"
   ]
  },
  {
   "cell_type": "code",
   "execution_count": null,
   "metadata": {},
   "outputs": [],
   "source": [
    "df = df.loc[0:117]\n",
    "df = df[[\"날짜\",\"정책\",\"정책지수\",\"누적정책지수\",\"서울\",\"용산구\",\"광진구\",\"서대문구\",\"영등포구\",\"서초구\",\"소비자물가지수\",\"한국은행기준금리\",\"원달러환율\",\"가계대출\",\"서울시부동산심리지수\",\"서울실거래지수\",\"도심권실거래지수\",\"동북권실거래지수\",\"서북권실거래지수\",\"서남권실거래지수\",\"동남권실거래지수\"]]\n",
    "df.columns = [\"date\",\"1\",\"PI\",\"PI2\",\"Seoul\",\"Yongsan-gu\",\"Gwangjin-gu\",\"Seodaemun-gu\",\"Yeongdeungpo-gu\",\"Seocho-gu\",\"CPI\",\"BR\",\"ER\",\"HL\",\"EI\",\"SI\",\"CI\",\"NEI\",\"NWI\",\"SWI\",\"SEI\"]\n",
    "df.tail()"
   ]
  },
  {
   "cell_type": "code",
   "execution_count": null,
   "metadata": {
    "scrolled": true
   },
   "outputs": [],
   "source": [
    "sns.set(rc={'figure.figsize':(16,10)})\n",
    "sns.boxplot(data=df.iloc[:,1:12])"
   ]
  },
  {
   "cell_type": "code",
   "execution_count": null,
   "metadata": {},
   "outputs": [],
   "source": [
    "feature = df[[\"PI\",\"CPI\",\"BR\",\"ER\",\"HL\",\"EI\"]]\n",
    "\n",
    "whole1 = df[[\"Seoul\",\"PI\",\"CPI\",\"BR\",\"ER\",\"HL\",\"EI\"]]\n",
    "\n",
    "whole2 = df[[\"Yongsan-gu\",\"PI\",\"CPI\",\"BR\",\"ER\",\"HL\",\"EI\"]]\n",
    "whole3 = df[[\"Gwangjin-gu\",\"PI\",\"CPI\",\"BR\",\"ER\",\"HL\",\"EI\"]]\n",
    "whole4 = df[[\"Seodaemun-gu\",\"PI\",\"CPI\",\"BR\",\"ER\",\"HL\",\"EI\"]]\n",
    "whole5 = df[[\"Yeongdeungpo-gu\",\"PI\",\"CPI\",\"BR\",\"ER\",\"HL\",\"EI\"]]\n",
    "whole6 = df[[\"Seocho-gu\",\"PI\",\"CPI\",\"BR\",\"ER\",\"HL\",\"EI\"]]\n",
    "\n",
    "label = df[[\"Seoul\",\"Yongsan-gu\",\"Gwangjin-gu\",\"Seodaemun-gu\",\"Yeongdeungpo-gu\",\"Seocho-gu\"]]\n",
    "\n",
    "label1 = df[[\"Seoul\"]]\n",
    "label2 = df[[\"Yongsan-gu\"]]\n",
    "label3 = df[[\"Gwangjin-gu\"]]\n",
    "label4 = df[[\"Seodaemun-gu\"]]\n",
    "label5 = df[[\"Yeongdeungpo-gu\"]]\n",
    "label6 = df[[\"Seocho-gu\"]]\n",
    "\n",
    "date=df[[\"date\"]]"
   ]
  },
  {
   "cell_type": "code",
   "execution_count": null,
   "metadata": {},
   "outputs": [],
   "source": [
    "sns.set(rc={'figure.figsize':(16,10)})\n",
    "sns.boxplot(data=label)"
   ]
  },
  {
   "cell_type": "code",
   "execution_count": null,
   "metadata": {},
   "outputs": [],
   "source": [
    "plt.figure(figsize=(16,10))\n",
    "label.plot()\n",
    "plt.title(\"Price of Apartment in Seoul(Won)\")"
   ]
  },
  {
   "cell_type": "code",
   "execution_count": null,
   "metadata": {},
   "outputs": [],
   "source": [
    "plt.figure(figsize=(16,10))\n",
    "feature.PI.plot()\n",
    "plt.title(\"Policy Index\")"
   ]
  },
  {
   "cell_type": "code",
   "execution_count": null,
   "metadata": {},
   "outputs": [],
   "source": [
    "plt.figure(figsize=(16,10))\n",
    "feature.CPI.plot()\n",
    "plt.title(\"Customer Price Index\")"
   ]
  },
  {
   "cell_type": "code",
   "execution_count": null,
   "metadata": {},
   "outputs": [],
   "source": [
    "plt.figure(figsize=(16,10))\n",
    "feature.BR.plot()\n",
    "plt.title(\"Base Rate by Bank of Korea\")"
   ]
  },
  {
   "cell_type": "code",
   "execution_count": null,
   "metadata": {},
   "outputs": [],
   "source": [
    "plt.figure(figsize=(16,10))\n",
    "feature.ER.plot()\n",
    "plt.title(\"Exchange Rate\")"
   ]
  },
  {
   "cell_type": "code",
   "execution_count": null,
   "metadata": {},
   "outputs": [],
   "source": [
    "plt.figure(figsize=(16,10))\n",
    "feature.HL.plot()\n",
    "plt.title(\"Housing Loan\")"
   ]
  },
  {
   "cell_type": "code",
   "execution_count": null,
   "metadata": {},
   "outputs": [],
   "source": [
    "plt.figure(figsize=(16,10))\n",
    "feature.EI.plot()\n",
    "plt.title(\"Real-estate Index\")"
   ]
  },
  {
   "cell_type": "code",
   "execution_count": null,
   "metadata": {},
   "outputs": [],
   "source": [
    "import pandas_profiling\n",
    "\n",
    "#pr=df.profile_report() \n",
    "#df.profile_report()\n",
    "#pr.to_file('~\\data.html')"
   ]
  },
  {
   "cell_type": "code",
   "execution_count": null,
   "metadata": {},
   "outputs": [],
   "source": [
    "data = df[[\"Yongsan-gu\",\"Gwangjin-gu\",\"Seodaemun-gu\",\n",
    "              \"Yeongdeungpo-gu\",\"Seocho-gu\",\"p2\",\"CPI\",\"BR\",\"ER\",\"HL\", \"CSI\"]]"
   ]
  },
  {
   "cell_type": "markdown",
   "metadata": {},
   "source": [
    "# Correlation"
   ]
  },
  {
   "cell_type": "code",
   "execution_count": null,
   "metadata": {},
   "outputs": [],
   "source": [
    "corr = data.corr()\n",
    "corr1 = whole1.corr()\n",
    "corr2 = whole2.corr()\n",
    "corr3 = whole3.corr()\n",
    "corr4 = whole4.corr()\n",
    "corr5 = whole5.corr()\n",
    "corr6 = whole6.corr()\n",
    "\n",
    "sns.clustermap(corr, annot = True, cmap = 'RdYlBu_r', vmin = -1, vmax = 1, )\n",
    "sns.clustermap(corr1, annot = True, cmap = 'RdYlBu_r', vmin = -1, vmax = 1, )\n",
    "sns.clustermap(corr2, annot = True, cmap = 'RdYlBu_r', vmin = -1, vmax = 1, )\n",
    "sns.clustermap(corr3, annot = True, cmap = 'RdYlBu_r', vmin = -1, vmax = 1, )\n",
    "sns.clustermap(corr4, annot = True, cmap = 'RdYlBu_r', vmin = -1, vmax = 1, )\n",
    "sns.clustermap(corr5, annot = True, cmap = 'RdYlBu_r', vmin = -1, vmax = 1, )\n",
    "sns.clustermap(corr6, annot = True, cmap = 'RdYlBu_r', vmin = -1, vmax = 1, )"
   ]
  }
 ],
 "metadata": {
  "interpreter": {
   "hash": "32d951a4fb713309e6a15ac834ff0fb502c06e5ab8683a64badeae54cb1002e2"
  },
  "kernelspec": {
   "display_name": "test3",
   "language": "python",
   "name": "python3"
  },
  "language_info": {
   "codemirror_mode": {
    "name": "ipython",
    "version": 3
   },
   "file_extension": ".py",
   "mimetype": "text/x-python",
   "name": "python",
   "nbconvert_exporter": "python",
   "pygments_lexer": "ipython3",
   "version": "3.7.9"
  }
 },
 "nbformat": 4,
 "nbformat_minor": 4
}
